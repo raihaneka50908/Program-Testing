{
 "cells": [
  {
   "cell_type": "code",
   "execution_count": 1,
   "id": "3ddedd49",
   "metadata": {},
   "outputs": [
    {
     "name": "stdout",
     "output_type": "stream",
     "text": [
      "Requirement already satisfied: scikit-surprise in /Volumes/Kerja_Keras/Folder_Fold_Recovery/For Career/File Virtual Environtment/New_Venv/lib/python3.9/site-packages (1.1.3)\n",
      "Requirement already satisfied: joblib>=1.0.0 in /Volumes/Kerja_Keras/Folder_Fold_Recovery/For Career/File Virtual Environtment/New_Venv/lib/python3.9/site-packages (from scikit-surprise) (1.2.0)\n",
      "Requirement already satisfied: numpy>=1.17.3 in /Volumes/Kerja_Keras/Folder_Fold_Recovery/For Career/File Virtual Environtment/New_Venv/lib/python3.9/site-packages (from scikit-surprise) (1.24.2)\n",
      "Requirement already satisfied: scipy>=1.3.2 in /Volumes/Kerja_Keras/Folder_Fold_Recovery/For Career/File Virtual Environtment/New_Venv/lib/python3.9/site-packages (from scikit-surprise) (1.9.1)\n",
      "\u001b[33mWARNING: You are using pip version 21.2.4; however, version 23.1.1 is available.\n",
      "You should consider upgrading via the '/Volumes/Kerja_Keras/Folder_Fold_Recovery/For Career/File Virtual Environtment/New_Venv/bin/python3 -m pip install --upgrade pip' command.\u001b[0m\n"
     ]
    }
   ],
   "source": [
    "!pip install scikit-surprise"
   ]
  },
  {
   "cell_type": "code",
   "execution_count": 1,
   "id": "09a15321",
   "metadata": {},
   "outputs": [],
   "source": [
    "import pandas as pd"
   ]
  },
  {
   "cell_type": "markdown",
   "id": "4582c340",
   "metadata": {},
   "source": [
    "# Membaca Dataset Buku, Rating, dan Users"
   ]
  },
  {
   "cell_type": "code",
   "execution_count": 2,
   "id": "6f52a3e7",
   "metadata": {},
   "outputs": [
    {
     "name": "stderr",
     "output_type": "stream",
     "text": [
      "/var/folders/g9/y5ld4t7d2yd9217nzzy3h3pr0000gn/T/ipykernel_2498/480639836.py:2: DtypeWarning: Columns (3) have mixed types. Specify dtype option on import or set low_memory=False.\n",
      "  buku = pd.read_csv(\"Books.csv\")\n"
     ]
    },
    {
     "data": {
      "text/html": [
       "<div>\n",
       "<style scoped>\n",
       "    .dataframe tbody tr th:only-of-type {\n",
       "        vertical-align: middle;\n",
       "    }\n",
       "\n",
       "    .dataframe tbody tr th {\n",
       "        vertical-align: top;\n",
       "    }\n",
       "\n",
       "    .dataframe thead th {\n",
       "        text-align: right;\n",
       "    }\n",
       "</style>\n",
       "<table border=\"1\" class=\"dataframe\">\n",
       "  <thead>\n",
       "    <tr style=\"text-align: right;\">\n",
       "      <th></th>\n",
       "      <th>ISBN</th>\n",
       "      <th>Book-Title</th>\n",
       "      <th>Book-Author</th>\n",
       "      <th>Year-Of-Publication</th>\n",
       "      <th>Publisher</th>\n",
       "      <th>Image-URL-S</th>\n",
       "      <th>Image-URL-M</th>\n",
       "      <th>Image-URL-L</th>\n",
       "    </tr>\n",
       "  </thead>\n",
       "  <tbody>\n",
       "    <tr>\n",
       "      <th>0</th>\n",
       "      <td>0195153448</td>\n",
       "      <td>Classical Mythology</td>\n",
       "      <td>Mark P. O. Morford</td>\n",
       "      <td>2002</td>\n",
       "      <td>Oxford University Press</td>\n",
       "      <td>http://images.amazon.com/images/P/0195153448.01.THUMBZZZ.jpg</td>\n",
       "      <td>http://images.amazon.com/images/P/0195153448.01.MZZZZZZZ.jpg</td>\n",
       "      <td>http://images.amazon.com/images/P/0195153448.01.LZZZZZZZ.jpg</td>\n",
       "    </tr>\n",
       "    <tr>\n",
       "      <th>1</th>\n",
       "      <td>0002005018</td>\n",
       "      <td>Clara Callan</td>\n",
       "      <td>Richard Bruce Wright</td>\n",
       "      <td>2001</td>\n",
       "      <td>HarperFlamingo Canada</td>\n",
       "      <td>http://images.amazon.com/images/P/0002005018.01.THUMBZZZ.jpg</td>\n",
       "      <td>http://images.amazon.com/images/P/0002005018.01.MZZZZZZZ.jpg</td>\n",
       "      <td>http://images.amazon.com/images/P/0002005018.01.LZZZZZZZ.jpg</td>\n",
       "    </tr>\n",
       "    <tr>\n",
       "      <th>2</th>\n",
       "      <td>0060973129</td>\n",
       "      <td>Decision in Normandy</td>\n",
       "      <td>Carlo D'Este</td>\n",
       "      <td>1991</td>\n",
       "      <td>HarperPerennial</td>\n",
       "      <td>http://images.amazon.com/images/P/0060973129.01.THUMBZZZ.jpg</td>\n",
       "      <td>http://images.amazon.com/images/P/0060973129.01.MZZZZZZZ.jpg</td>\n",
       "      <td>http://images.amazon.com/images/P/0060973129.01.LZZZZZZZ.jpg</td>\n",
       "    </tr>\n",
       "    <tr>\n",
       "      <th>3</th>\n",
       "      <td>0374157065</td>\n",
       "      <td>Flu: The Story of the Great Influenza Pandemic of 1918 and the Search for the Virus That Caused It</td>\n",
       "      <td>Gina Bari Kolata</td>\n",
       "      <td>1999</td>\n",
       "      <td>Farrar Straus Giroux</td>\n",
       "      <td>http://images.amazon.com/images/P/0374157065.01.THUMBZZZ.jpg</td>\n",
       "      <td>http://images.amazon.com/images/P/0374157065.01.MZZZZZZZ.jpg</td>\n",
       "      <td>http://images.amazon.com/images/P/0374157065.01.LZZZZZZZ.jpg</td>\n",
       "    </tr>\n",
       "    <tr>\n",
       "      <th>4</th>\n",
       "      <td>0393045218</td>\n",
       "      <td>The Mummies of Urumchi</td>\n",
       "      <td>E. J. W. Barber</td>\n",
       "      <td>1999</td>\n",
       "      <td>W. W. Norton &amp;amp; Company</td>\n",
       "      <td>http://images.amazon.com/images/P/0393045218.01.THUMBZZZ.jpg</td>\n",
       "      <td>http://images.amazon.com/images/P/0393045218.01.MZZZZZZZ.jpg</td>\n",
       "      <td>http://images.amazon.com/images/P/0393045218.01.LZZZZZZZ.jpg</td>\n",
       "    </tr>\n",
       "  </tbody>\n",
       "</table>\n",
       "</div>"
      ],
      "text/plain": [
       "         ISBN   \n",
       "0  0195153448  \\\n",
       "1  0002005018   \n",
       "2  0060973129   \n",
       "3  0374157065   \n",
       "4  0393045218   \n",
       "\n",
       "                                                                                           Book-Title   \n",
       "0                                                                                 Classical Mythology  \\\n",
       "1                                                                                        Clara Callan   \n",
       "2                                                                                Decision in Normandy   \n",
       "3  Flu: The Story of the Great Influenza Pandemic of 1918 and the Search for the Virus That Caused It   \n",
       "4                                                                              The Mummies of Urumchi   \n",
       "\n",
       "            Book-Author Year-Of-Publication                   Publisher   \n",
       "0    Mark P. O. Morford                2002     Oxford University Press  \\\n",
       "1  Richard Bruce Wright                2001       HarperFlamingo Canada   \n",
       "2          Carlo D'Este                1991             HarperPerennial   \n",
       "3      Gina Bari Kolata                1999        Farrar Straus Giroux   \n",
       "4       E. J. W. Barber                1999  W. W. Norton &amp; Company   \n",
       "\n",
       "                                                    Image-URL-S   \n",
       "0  http://images.amazon.com/images/P/0195153448.01.THUMBZZZ.jpg  \\\n",
       "1  http://images.amazon.com/images/P/0002005018.01.THUMBZZZ.jpg   \n",
       "2  http://images.amazon.com/images/P/0060973129.01.THUMBZZZ.jpg   \n",
       "3  http://images.amazon.com/images/P/0374157065.01.THUMBZZZ.jpg   \n",
       "4  http://images.amazon.com/images/P/0393045218.01.THUMBZZZ.jpg   \n",
       "\n",
       "                                                    Image-URL-M   \n",
       "0  http://images.amazon.com/images/P/0195153448.01.MZZZZZZZ.jpg  \\\n",
       "1  http://images.amazon.com/images/P/0002005018.01.MZZZZZZZ.jpg   \n",
       "2  http://images.amazon.com/images/P/0060973129.01.MZZZZZZZ.jpg   \n",
       "3  http://images.amazon.com/images/P/0374157065.01.MZZZZZZZ.jpg   \n",
       "4  http://images.amazon.com/images/P/0393045218.01.MZZZZZZZ.jpg   \n",
       "\n",
       "                                                    Image-URL-L  \n",
       "0  http://images.amazon.com/images/P/0195153448.01.LZZZZZZZ.jpg  \n",
       "1  http://images.amazon.com/images/P/0002005018.01.LZZZZZZZ.jpg  \n",
       "2  http://images.amazon.com/images/P/0060973129.01.LZZZZZZZ.jpg  \n",
       "3  http://images.amazon.com/images/P/0374157065.01.LZZZZZZZ.jpg  \n",
       "4  http://images.amazon.com/images/P/0393045218.01.LZZZZZZZ.jpg  "
      ]
     },
     "execution_count": 2,
     "metadata": {},
     "output_type": "execute_result"
    }
   ],
   "source": [
    "pd.options.display.max_colwidth = 100\n",
    "buku = pd.read_csv(\"Books.csv\")\n",
    "buku.head(5)"
   ]
  },
  {
   "cell_type": "code",
   "execution_count": 3,
   "id": "28ecbbf0",
   "metadata": {},
   "outputs": [
    {
     "data": {
      "text/html": [
       "<div>\n",
       "<style scoped>\n",
       "    .dataframe tbody tr th:only-of-type {\n",
       "        vertical-align: middle;\n",
       "    }\n",
       "\n",
       "    .dataframe tbody tr th {\n",
       "        vertical-align: top;\n",
       "    }\n",
       "\n",
       "    .dataframe thead th {\n",
       "        text-align: right;\n",
       "    }\n",
       "</style>\n",
       "<table border=\"1\" class=\"dataframe\">\n",
       "  <thead>\n",
       "    <tr style=\"text-align: right;\">\n",
       "      <th></th>\n",
       "      <th>User-ID</th>\n",
       "      <th>ISBN</th>\n",
       "      <th>Book-Rating</th>\n",
       "    </tr>\n",
       "  </thead>\n",
       "  <tbody>\n",
       "    <tr>\n",
       "      <th>0</th>\n",
       "      <td>276725</td>\n",
       "      <td>034545104X</td>\n",
       "      <td>0</td>\n",
       "    </tr>\n",
       "    <tr>\n",
       "      <th>1</th>\n",
       "      <td>276726</td>\n",
       "      <td>0155061224</td>\n",
       "      <td>5</td>\n",
       "    </tr>\n",
       "    <tr>\n",
       "      <th>2</th>\n",
       "      <td>276727</td>\n",
       "      <td>0446520802</td>\n",
       "      <td>0</td>\n",
       "    </tr>\n",
       "    <tr>\n",
       "      <th>3</th>\n",
       "      <td>276729</td>\n",
       "      <td>052165615X</td>\n",
       "      <td>3</td>\n",
       "    </tr>\n",
       "    <tr>\n",
       "      <th>4</th>\n",
       "      <td>276729</td>\n",
       "      <td>0521795028</td>\n",
       "      <td>6</td>\n",
       "    </tr>\n",
       "  </tbody>\n",
       "</table>\n",
       "</div>"
      ],
      "text/plain": [
       "   User-ID        ISBN  Book-Rating\n",
       "0   276725  034545104X            0\n",
       "1   276726  0155061224            5\n",
       "2   276727  0446520802            0\n",
       "3   276729  052165615X            3\n",
       "4   276729  0521795028            6"
      ]
     },
     "execution_count": 3,
     "metadata": {},
     "output_type": "execute_result"
    }
   ],
   "source": [
    "rating=pd.read_csv(\"Ratings.csv\")\n",
    "rating.head(5)"
   ]
  },
  {
   "cell_type": "code",
   "execution_count": 4,
   "id": "b7a18f14",
   "metadata": {},
   "outputs": [
    {
     "data": {
      "text/html": [
       "<div>\n",
       "<style scoped>\n",
       "    .dataframe tbody tr th:only-of-type {\n",
       "        vertical-align: middle;\n",
       "    }\n",
       "\n",
       "    .dataframe tbody tr th {\n",
       "        vertical-align: top;\n",
       "    }\n",
       "\n",
       "    .dataframe thead th {\n",
       "        text-align: right;\n",
       "    }\n",
       "</style>\n",
       "<table border=\"1\" class=\"dataframe\">\n",
       "  <thead>\n",
       "    <tr style=\"text-align: right;\">\n",
       "      <th></th>\n",
       "      <th>User-ID</th>\n",
       "      <th>Location</th>\n",
       "      <th>Age</th>\n",
       "    </tr>\n",
       "  </thead>\n",
       "  <tbody>\n",
       "    <tr>\n",
       "      <th>0</th>\n",
       "      <td>1</td>\n",
       "      <td>nyc, new york, usa</td>\n",
       "      <td>NaN</td>\n",
       "    </tr>\n",
       "    <tr>\n",
       "      <th>1</th>\n",
       "      <td>2</td>\n",
       "      <td>stockton, california, usa</td>\n",
       "      <td>18.0</td>\n",
       "    </tr>\n",
       "    <tr>\n",
       "      <th>2</th>\n",
       "      <td>3</td>\n",
       "      <td>moscow, yukon territory, russia</td>\n",
       "      <td>NaN</td>\n",
       "    </tr>\n",
       "    <tr>\n",
       "      <th>3</th>\n",
       "      <td>4</td>\n",
       "      <td>porto, v.n.gaia, portugal</td>\n",
       "      <td>17.0</td>\n",
       "    </tr>\n",
       "    <tr>\n",
       "      <th>4</th>\n",
       "      <td>5</td>\n",
       "      <td>farnborough, hants, united kingdom</td>\n",
       "      <td>NaN</td>\n",
       "    </tr>\n",
       "  </tbody>\n",
       "</table>\n",
       "</div>"
      ],
      "text/plain": [
       "   User-ID                            Location   Age\n",
       "0        1                  nyc, new york, usa   NaN\n",
       "1        2           stockton, california, usa  18.0\n",
       "2        3     moscow, yukon territory, russia   NaN\n",
       "3        4           porto, v.n.gaia, portugal  17.0\n",
       "4        5  farnborough, hants, united kingdom   NaN"
      ]
     },
     "execution_count": 4,
     "metadata": {},
     "output_type": "execute_result"
    }
   ],
   "source": [
    "user=pd.read_csv(\"Users.csv\")\n",
    "user.head(5)"
   ]
  },
  {
   "cell_type": "markdown",
   "id": "911f5ad1",
   "metadata": {},
   "source": [
    "# Mengevaluasi Dataset Buku"
   ]
  },
  {
   "cell_type": "code",
   "execution_count": 6,
   "id": "df4d41a1",
   "metadata": {},
   "outputs": [
    {
     "name": "stdout",
     "output_type": "stream",
     "text": [
      "Requirement already satisfied: seaborn in /Volumes/Kerja_Keras/Folder_Fold_Recovery/For Career/File Virtual Environtment/New_Venv/lib/python3.9/site-packages (0.12.2)\n",
      "Requirement already satisfied: pandas>=0.25 in /Volumes/Kerja_Keras/Folder_Fold_Recovery/For Career/File Virtual Environtment/New_Venv/lib/python3.9/site-packages (from seaborn) (2.0.0)\n",
      "Requirement already satisfied: matplotlib!=3.6.1,>=3.1 in /Volumes/Kerja_Keras/Folder_Fold_Recovery/For Career/File Virtual Environtment/New_Venv/lib/python3.9/site-packages (from seaborn) (3.7.1)\n",
      "Requirement already satisfied: numpy!=1.24.0,>=1.17 in /Volumes/Kerja_Keras/Folder_Fold_Recovery/For Career/File Virtual Environtment/New_Venv/lib/python3.9/site-packages (from seaborn) (1.24.2)\n",
      "Requirement already satisfied: pyparsing>=2.3.1 in /Volumes/Kerja_Keras/Folder_Fold_Recovery/For Career/File Virtual Environtment/New_Venv/lib/python3.9/site-packages (from matplotlib!=3.6.1,>=3.1->seaborn) (3.0.9)\n",
      "Requirement already satisfied: contourpy>=1.0.1 in /Volumes/Kerja_Keras/Folder_Fold_Recovery/For Career/File Virtual Environtment/New_Venv/lib/python3.9/site-packages (from matplotlib!=3.6.1,>=3.1->seaborn) (1.0.7)\n",
      "Requirement already satisfied: python-dateutil>=2.7 in /Volumes/Kerja_Keras/Folder_Fold_Recovery/For Career/File Virtual Environtment/New_Venv/lib/python3.9/site-packages (from matplotlib!=3.6.1,>=3.1->seaborn) (2.8.2)\n",
      "Requirement already satisfied: cycler>=0.10 in /Volumes/Kerja_Keras/Folder_Fold_Recovery/For Career/File Virtual Environtment/New_Venv/lib/python3.9/site-packages (from matplotlib!=3.6.1,>=3.1->seaborn) (0.11.0)\n",
      "Requirement already satisfied: pillow>=6.2.0 in /Volumes/Kerja_Keras/Folder_Fold_Recovery/For Career/File Virtual Environtment/New_Venv/lib/python3.9/site-packages (from matplotlib!=3.6.1,>=3.1->seaborn) (9.5.0)\n",
      "Requirement already satisfied: kiwisolver>=1.0.1 in /Volumes/Kerja_Keras/Folder_Fold_Recovery/For Career/File Virtual Environtment/New_Venv/lib/python3.9/site-packages (from matplotlib!=3.6.1,>=3.1->seaborn) (1.4.4)\n",
      "Requirement already satisfied: fonttools>=4.22.0 in /Volumes/Kerja_Keras/Folder_Fold_Recovery/For Career/File Virtual Environtment/New_Venv/lib/python3.9/site-packages (from matplotlib!=3.6.1,>=3.1->seaborn) (4.39.3)\n",
      "Requirement already satisfied: importlib-resources>=3.2.0 in /Volumes/Kerja_Keras/Folder_Fold_Recovery/For Career/File Virtual Environtment/New_Venv/lib/python3.9/site-packages (from matplotlib!=3.6.1,>=3.1->seaborn) (5.12.0)\n",
      "Requirement already satisfied: packaging>=20.0 in /Volumes/Kerja_Keras/Folder_Fold_Recovery/For Career/File Virtual Environtment/New_Venv/lib/python3.9/site-packages (from matplotlib!=3.6.1,>=3.1->seaborn) (23.0)\n",
      "Requirement already satisfied: zipp>=3.1.0 in /Volumes/Kerja_Keras/Folder_Fold_Recovery/For Career/File Virtual Environtment/New_Venv/lib/python3.9/site-packages (from importlib-resources>=3.2.0->matplotlib!=3.6.1,>=3.1->seaborn) (3.15.0)\n",
      "Requirement already satisfied: pytz>=2020.1 in /Volumes/Kerja_Keras/Folder_Fold_Recovery/For Career/File Virtual Environtment/New_Venv/lib/python3.9/site-packages (from pandas>=0.25->seaborn) (2023.3)\n",
      "Requirement already satisfied: tzdata>=2022.1 in /Volumes/Kerja_Keras/Folder_Fold_Recovery/For Career/File Virtual Environtment/New_Venv/lib/python3.9/site-packages (from pandas>=0.25->seaborn) (2023.3)\n",
      "Requirement already satisfied: six>=1.5 in /Volumes/Kerja_Keras/Folder_Fold_Recovery/For Career/File Virtual Environtment/New_Venv/lib/python3.9/site-packages (from python-dateutil>=2.7->matplotlib!=3.6.1,>=3.1->seaborn) (1.16.0)\n",
      "\u001b[33mWARNING: You are using pip version 21.2.4; however, version 23.1.1 is available.\n",
      "You should consider upgrading via the '/Volumes/Kerja_Keras/Folder_Fold_Recovery/For Career/File Virtual Environtment/New_Venv/bin/python3 -m pip install --upgrade pip' command.\u001b[0m\n"
     ]
    }
   ],
   "source": [
    "!pip3 install seaborn"
   ]
  },
  {
   "cell_type": "code",
   "execution_count": 5,
   "id": "193257ae",
   "metadata": {},
   "outputs": [],
   "source": [
    "import seaborn as sns"
   ]
  },
  {
   "cell_type": "code",
   "execution_count": 6,
   "id": "e9a23ebf",
   "metadata": {},
   "outputs": [
    {
     "name": "stdout",
     "output_type": "stream",
     "text": [
      "<class 'pandas.core.frame.DataFrame'>\n",
      "RangeIndex: 271360 entries, 0 to 271359\n",
      "Data columns (total 8 columns):\n",
      " #   Column               Non-Null Count   Dtype \n",
      "---  ------               --------------   ----- \n",
      " 0   ISBN                 271360 non-null  object\n",
      " 1   Book-Title           271360 non-null  object\n",
      " 2   Book-Author          271358 non-null  object\n",
      " 3   Year-Of-Publication  271360 non-null  object\n",
      " 4   Publisher            271358 non-null  object\n",
      " 5   Image-URL-S          271360 non-null  object\n",
      " 6   Image-URL-M          271360 non-null  object\n",
      " 7   Image-URL-L          271357 non-null  object\n",
      "dtypes: object(8)\n",
      "memory usage: 16.6+ MB\n"
     ]
    }
   ],
   "source": [
    "buku.info()"
   ]
  },
  {
   "cell_type": "code",
   "execution_count": 7,
   "id": "872987a7",
   "metadata": {},
   "outputs": [
    {
     "data": {
      "text/plain": [
       "(271360, 8)"
      ]
     },
     "execution_count": 7,
     "metadata": {},
     "output_type": "execute_result"
    }
   ],
   "source": [
    "buku.shape"
   ]
  },
  {
   "cell_type": "code",
   "execution_count": 8,
   "id": "7f5c49a0",
   "metadata": {},
   "outputs": [
    {
     "data": {
      "text/plain": [
       "ISBN\n",
       "0195153448    1\n",
       "0746008481    1\n",
       "0395219906    1\n",
       "043916169X    1\n",
       "0879235322    1\n",
       "             ..\n",
       "1568303823    1\n",
       "0525947612    1\n",
       "207036819X    1\n",
       "2877306127    1\n",
       "0767409752    1\n",
       "Name: count, Length: 271360, dtype: int64"
      ]
     },
     "execution_count": 8,
     "metadata": {},
     "output_type": "execute_result"
    }
   ],
   "source": [
    "buku['ISBN'].value_counts()"
   ]
  },
  {
   "cell_type": "code",
   "execution_count": 9,
   "id": "300c5813",
   "metadata": {},
   "outputs": [
    {
     "data": {
      "text/plain": [
       "array([2002, 2001, 1991, 1999, 2000, 1993, 1996, 1988, 2004, 1998, 1994,\n",
       "       2003, 1997, 1983, 1979, 1995, 1982, 1985, 1992, 1986, 1978, 1980,\n",
       "       1952, 1987, 1990, 1981, 1989, 1984, 0, 1968, 1961, 1958, 1974,\n",
       "       1976, 1971, 1977, 1975, 1965, 1941, 1970, 1962, 1973, 1972, 1960,\n",
       "       1966, 1920, 1956, 1959, 1953, 1951, 1942, 1963, 1964, 1969, 1954,\n",
       "       1950, 1967, 2005, 1957, 1940, 1937, 1955, 1946, 1936, 1930, 2011,\n",
       "       1925, 1948, 1943, 1947, 1945, 1923, 2020, 1939, 1926, 1938, 2030,\n",
       "       1911, 1904, 1949, 1932, 1928, 1929, 1927, 1931, 1914, 2050, 1934,\n",
       "       1910, 1933, 1902, 1924, 1921, 1900, 2038, 2026, 1944, 1917, 1901,\n",
       "       2010, 1908, 1906, 1935, 1806, 2021, '2000', '1995', '1999', '2004',\n",
       "       '2003', '1990', '1994', '1986', '1989', '2002', '1981', '1993',\n",
       "       '1983', '1982', '1976', '1991', '1977', '1998', '1992', '1996',\n",
       "       '0', '1997', '2001', '1974', '1968', '1987', '1984', '1988',\n",
       "       '1963', '1956', '1970', '1985', '1978', '1973', '1980', '1979',\n",
       "       '1975', '1969', '1961', '1965', '1939', '1958', '1950', '1953',\n",
       "       '1966', '1971', '1959', '1972', '1955', '1957', '1945', '1960',\n",
       "       '1967', '1932', '1924', '1964', '2012', '1911', '1927', '1948',\n",
       "       '1962', '2006', '1952', '1940', '1951', '1931', '1954', '2005',\n",
       "       '1930', '1941', '1944', 'DK Publishing Inc', '1943', '1938',\n",
       "       '1900', '1942', '1923', '1920', '1933', 'Gallimard', '1909',\n",
       "       '1946', '2008', '1378', '2030', '1936', '1947', '2011', '2020',\n",
       "       '1919', '1949', '1922', '1897', '2024', '1376', '1926', '2037'],\n",
       "      dtype=object)"
      ]
     },
     "execution_count": 9,
     "metadata": {},
     "output_type": "execute_result"
    }
   ],
   "source": [
    "buku['Year-Of-Publication'].unique()"
   ]
  },
  {
   "cell_type": "code",
   "execution_count": 10,
   "id": "2f40971b",
   "metadata": {},
   "outputs": [
    {
     "data": {
      "text/plain": [
       "array(['Classical Mythology', 'Clara Callan', 'Decision in Normandy', ...,\n",
       "       'Lily Dale : The True Story of the Town that Talks to the Dead',\n",
       "       \"Republic (World's Classics)\",\n",
       "       \"A Guided Tour of Rene Descartes' Meditations on First Philosophy with Complete Translations of the Meditations by Ronald Rubin\"],\n",
       "      dtype=object)"
      ]
     },
     "execution_count": 10,
     "metadata": {},
     "output_type": "execute_result"
    }
   ],
   "source": [
    "buku['Book-Title'].unique()"
   ]
  },
  {
   "cell_type": "code",
   "execution_count": 11,
   "id": "5f29ccd7",
   "metadata": {},
   "outputs": [
    {
     "data": {
      "text/plain": [
       "array(['Mark P. O. Morford', 'Richard Bruce Wright', \"Carlo D'Este\", ...,\n",
       "       'David Biggs', 'Teri Sloat', 'Christopher  Biffle'], dtype=object)"
      ]
     },
     "execution_count": 11,
     "metadata": {},
     "output_type": "execute_result"
    }
   ],
   "source": [
    "buku['Book-Author'].unique()"
   ]
  },
  {
   "cell_type": "code",
   "execution_count": 12,
   "id": "f388b097",
   "metadata": {},
   "outputs": [],
   "source": [
    "buku['Book-Author']=buku['Book-Author'].fillna(\"Anonim\")"
   ]
  },
  {
   "cell_type": "code",
   "execution_count": 13,
   "id": "c4a689c4",
   "metadata": {},
   "outputs": [
    {
     "name": "stdout",
     "output_type": "stream",
     "text": [
      "<class 'pandas.core.frame.DataFrame'>\n",
      "RangeIndex: 271360 entries, 0 to 271359\n",
      "Data columns (total 8 columns):\n",
      " #   Column               Non-Null Count   Dtype \n",
      "---  ------               --------------   ----- \n",
      " 0   ISBN                 271360 non-null  object\n",
      " 1   Book-Title           271360 non-null  object\n",
      " 2   Book-Author          271360 non-null  object\n",
      " 3   Year-Of-Publication  271360 non-null  object\n",
      " 4   Publisher            271358 non-null  object\n",
      " 5   Image-URL-S          271360 non-null  object\n",
      " 6   Image-URL-M          271360 non-null  object\n",
      " 7   Image-URL-L          271357 non-null  object\n",
      "dtypes: object(8)\n",
      "memory usage: 16.6+ MB\n"
     ]
    }
   ],
   "source": [
    "buku.info()"
   ]
  },
  {
   "cell_type": "code",
   "execution_count": 14,
   "id": "1979911c",
   "metadata": {},
   "outputs": [],
   "source": [
    "buku['Book-Author']=buku['Book-Author'].replace(2000,'Anonim') #Mengubah elemen 2000 pada kolom book author menjadi anonim \n",
    "buku['Book-Author']=buku['Book-Author'].replace(2003,'Anonim') #Mengubah elemen 2003 pada kolom book author menjadi anonim\n",
    "buku['Year-Of-Publication']=buku['Year-Of-Publication'].replace('DK Publishing Inc',2000) #Mengubah elemen 'DK Publishing Inc' Menjadi 2000\n",
    "buku['Year-Of-Publication']=buku['Year-Of-Publication'].replace('Gallimard',2003) #Mengubah elemen 'Gallimard' menjadi 2003\n",
    "buku['Publisher']=buku['Publisher'].replace('http://images.amazon.com/images/P/078946697X.01.THUMBZZZ.jpg','DK Publishing Inc') #Mengubah link menjadi penerbit buku\n",
    "buku['Publisher']=buku['Publisher'].replace('http://images.amazon.com/images/P/0789466953.01.THUMBZZZ.jpg','DK Publishing Inc\t') #Mengubah link menjadi penerbit buku"
   ]
  },
  {
   "cell_type": "code",
   "execution_count": 15,
   "id": "d3ac7707",
   "metadata": {},
   "outputs": [
    {
     "data": {
      "text/html": [
       "<div>\n",
       "<style scoped>\n",
       "    .dataframe tbody tr th:only-of-type {\n",
       "        vertical-align: middle;\n",
       "    }\n",
       "\n",
       "    .dataframe tbody tr th {\n",
       "        vertical-align: top;\n",
       "    }\n",
       "\n",
       "    .dataframe thead th {\n",
       "        text-align: right;\n",
       "    }\n",
       "</style>\n",
       "<table border=\"1\" class=\"dataframe\">\n",
       "  <thead>\n",
       "    <tr style=\"text-align: right;\">\n",
       "      <th></th>\n",
       "      <th>ISBN</th>\n",
       "      <th>Book-Title</th>\n",
       "      <th>Book-Author</th>\n",
       "      <th>Year-Of-Publication</th>\n",
       "      <th>Publisher</th>\n",
       "      <th>Image-URL-S</th>\n",
       "      <th>Image-URL-M</th>\n",
       "      <th>Image-URL-L</th>\n",
       "    </tr>\n",
       "  </thead>\n",
       "  <tbody>\n",
       "    <tr>\n",
       "      <th>0</th>\n",
       "      <td>0195153448</td>\n",
       "      <td>Classical Mythology</td>\n",
       "      <td>Mark P. O. Morford</td>\n",
       "      <td>2002</td>\n",
       "      <td>Oxford University Press</td>\n",
       "      <td>http://images.amazon.com/images/P/0195153448.01.THUMBZZZ.jpg</td>\n",
       "      <td>http://images.amazon.com/images/P/0195153448.01.MZZZZZZZ.jpg</td>\n",
       "      <td>http://images.amazon.com/images/P/0195153448.01.LZZZZZZZ.jpg</td>\n",
       "    </tr>\n",
       "    <tr>\n",
       "      <th>1</th>\n",
       "      <td>0002005018</td>\n",
       "      <td>Clara Callan</td>\n",
       "      <td>Richard Bruce Wright</td>\n",
       "      <td>2001</td>\n",
       "      <td>HarperFlamingo Canada</td>\n",
       "      <td>http://images.amazon.com/images/P/0002005018.01.THUMBZZZ.jpg</td>\n",
       "      <td>http://images.amazon.com/images/P/0002005018.01.MZZZZZZZ.jpg</td>\n",
       "      <td>http://images.amazon.com/images/P/0002005018.01.LZZZZZZZ.jpg</td>\n",
       "    </tr>\n",
       "    <tr>\n",
       "      <th>2</th>\n",
       "      <td>0060973129</td>\n",
       "      <td>Decision in Normandy</td>\n",
       "      <td>Carlo D'Este</td>\n",
       "      <td>1991</td>\n",
       "      <td>HarperPerennial</td>\n",
       "      <td>http://images.amazon.com/images/P/0060973129.01.THUMBZZZ.jpg</td>\n",
       "      <td>http://images.amazon.com/images/P/0060973129.01.MZZZZZZZ.jpg</td>\n",
       "      <td>http://images.amazon.com/images/P/0060973129.01.LZZZZZZZ.jpg</td>\n",
       "    </tr>\n",
       "    <tr>\n",
       "      <th>3</th>\n",
       "      <td>0374157065</td>\n",
       "      <td>Flu: The Story of the Great Influenza Pandemic of 1918 and the Search for the Virus That Caused It</td>\n",
       "      <td>Gina Bari Kolata</td>\n",
       "      <td>1999</td>\n",
       "      <td>Farrar Straus Giroux</td>\n",
       "      <td>http://images.amazon.com/images/P/0374157065.01.THUMBZZZ.jpg</td>\n",
       "      <td>http://images.amazon.com/images/P/0374157065.01.MZZZZZZZ.jpg</td>\n",
       "      <td>http://images.amazon.com/images/P/0374157065.01.LZZZZZZZ.jpg</td>\n",
       "    </tr>\n",
       "    <tr>\n",
       "      <th>4</th>\n",
       "      <td>0393045218</td>\n",
       "      <td>The Mummies of Urumchi</td>\n",
       "      <td>E. J. W. Barber</td>\n",
       "      <td>1999</td>\n",
       "      <td>W. W. Norton &amp;amp; Company</td>\n",
       "      <td>http://images.amazon.com/images/P/0393045218.01.THUMBZZZ.jpg</td>\n",
       "      <td>http://images.amazon.com/images/P/0393045218.01.MZZZZZZZ.jpg</td>\n",
       "      <td>http://images.amazon.com/images/P/0393045218.01.LZZZZZZZ.jpg</td>\n",
       "    </tr>\n",
       "    <tr>\n",
       "      <th>...</th>\n",
       "      <td>...</td>\n",
       "      <td>...</td>\n",
       "      <td>...</td>\n",
       "      <td>...</td>\n",
       "      <td>...</td>\n",
       "      <td>...</td>\n",
       "      <td>...</td>\n",
       "      <td>...</td>\n",
       "    </tr>\n",
       "    <tr>\n",
       "      <th>271355</th>\n",
       "      <td>0440400988</td>\n",
       "      <td>There's a Bat in Bunk Five</td>\n",
       "      <td>Paula Danziger</td>\n",
       "      <td>1988</td>\n",
       "      <td>Random House Childrens Pub (Mm)</td>\n",
       "      <td>http://images.amazon.com/images/P/0440400988.01.THUMBZZZ.jpg</td>\n",
       "      <td>http://images.amazon.com/images/P/0440400988.01.MZZZZZZZ.jpg</td>\n",
       "      <td>http://images.amazon.com/images/P/0440400988.01.LZZZZZZZ.jpg</td>\n",
       "    </tr>\n",
       "    <tr>\n",
       "      <th>271356</th>\n",
       "      <td>0525447644</td>\n",
       "      <td>From One to One Hundred</td>\n",
       "      <td>Teri Sloat</td>\n",
       "      <td>1991</td>\n",
       "      <td>Dutton Books</td>\n",
       "      <td>http://images.amazon.com/images/P/0525447644.01.THUMBZZZ.jpg</td>\n",
       "      <td>http://images.amazon.com/images/P/0525447644.01.MZZZZZZZ.jpg</td>\n",
       "      <td>http://images.amazon.com/images/P/0525447644.01.LZZZZZZZ.jpg</td>\n",
       "    </tr>\n",
       "    <tr>\n",
       "      <th>271357</th>\n",
       "      <td>006008667X</td>\n",
       "      <td>Lily Dale : The True Story of the Town that Talks to the Dead</td>\n",
       "      <td>Christine Wicker</td>\n",
       "      <td>2004</td>\n",
       "      <td>HarperSanFrancisco</td>\n",
       "      <td>http://images.amazon.com/images/P/006008667X.01.THUMBZZZ.jpg</td>\n",
       "      <td>http://images.amazon.com/images/P/006008667X.01.MZZZZZZZ.jpg</td>\n",
       "      <td>http://images.amazon.com/images/P/006008667X.01.LZZZZZZZ.jpg</td>\n",
       "    </tr>\n",
       "    <tr>\n",
       "      <th>271358</th>\n",
       "      <td>0192126040</td>\n",
       "      <td>Republic (World's Classics)</td>\n",
       "      <td>Plato</td>\n",
       "      <td>1996</td>\n",
       "      <td>Oxford University Press</td>\n",
       "      <td>http://images.amazon.com/images/P/0192126040.01.THUMBZZZ.jpg</td>\n",
       "      <td>http://images.amazon.com/images/P/0192126040.01.MZZZZZZZ.jpg</td>\n",
       "      <td>http://images.amazon.com/images/P/0192126040.01.LZZZZZZZ.jpg</td>\n",
       "    </tr>\n",
       "    <tr>\n",
       "      <th>271359</th>\n",
       "      <td>0767409752</td>\n",
       "      <td>A Guided Tour of Rene Descartes' Meditations on First Philosophy with Complete Translations of t...</td>\n",
       "      <td>Christopher  Biffle</td>\n",
       "      <td>2000</td>\n",
       "      <td>McGraw-Hill Humanities/Social Sciences/Languages</td>\n",
       "      <td>http://images.amazon.com/images/P/0767409752.01.THUMBZZZ.jpg</td>\n",
       "      <td>http://images.amazon.com/images/P/0767409752.01.MZZZZZZZ.jpg</td>\n",
       "      <td>http://images.amazon.com/images/P/0767409752.01.LZZZZZZZ.jpg</td>\n",
       "    </tr>\n",
       "  </tbody>\n",
       "</table>\n",
       "<p>271360 rows × 8 columns</p>\n",
       "</div>"
      ],
      "text/plain": [
       "              ISBN   \n",
       "0       0195153448  \\\n",
       "1       0002005018   \n",
       "2       0060973129   \n",
       "3       0374157065   \n",
       "4       0393045218   \n",
       "...            ...   \n",
       "271355  0440400988   \n",
       "271356  0525447644   \n",
       "271357  006008667X   \n",
       "271358  0192126040   \n",
       "271359  0767409752   \n",
       "\n",
       "                                                                                                 Book-Title   \n",
       "0                                                                                       Classical Mythology  \\\n",
       "1                                                                                              Clara Callan   \n",
       "2                                                                                      Decision in Normandy   \n",
       "3        Flu: The Story of the Great Influenza Pandemic of 1918 and the Search for the Virus That Caused It   \n",
       "4                                                                                    The Mummies of Urumchi   \n",
       "...                                                                                                     ...   \n",
       "271355                                                                           There's a Bat in Bunk Five   \n",
       "271356                                                                              From One to One Hundred   \n",
       "271357                                        Lily Dale : The True Story of the Town that Talks to the Dead   \n",
       "271358                                                                          Republic (World's Classics)   \n",
       "271359  A Guided Tour of Rene Descartes' Meditations on First Philosophy with Complete Translations of t...   \n",
       "\n",
       "                 Book-Author Year-Of-Publication   \n",
       "0         Mark P. O. Morford                2002  \\\n",
       "1       Richard Bruce Wright                2001   \n",
       "2               Carlo D'Este                1991   \n",
       "3           Gina Bari Kolata                1999   \n",
       "4            E. J. W. Barber                1999   \n",
       "...                      ...                 ...   \n",
       "271355        Paula Danziger                1988   \n",
       "271356            Teri Sloat                1991   \n",
       "271357      Christine Wicker                2004   \n",
       "271358                 Plato                1996   \n",
       "271359   Christopher  Biffle                2000   \n",
       "\n",
       "                                               Publisher   \n",
       "0                                Oxford University Press  \\\n",
       "1                                  HarperFlamingo Canada   \n",
       "2                                        HarperPerennial   \n",
       "3                                   Farrar Straus Giroux   \n",
       "4                             W. W. Norton &amp; Company   \n",
       "...                                                  ...   \n",
       "271355                   Random House Childrens Pub (Mm)   \n",
       "271356                                      Dutton Books   \n",
       "271357                                HarperSanFrancisco   \n",
       "271358                           Oxford University Press   \n",
       "271359  McGraw-Hill Humanities/Social Sciences/Languages   \n",
       "\n",
       "                                                         Image-URL-S   \n",
       "0       http://images.amazon.com/images/P/0195153448.01.THUMBZZZ.jpg  \\\n",
       "1       http://images.amazon.com/images/P/0002005018.01.THUMBZZZ.jpg   \n",
       "2       http://images.amazon.com/images/P/0060973129.01.THUMBZZZ.jpg   \n",
       "3       http://images.amazon.com/images/P/0374157065.01.THUMBZZZ.jpg   \n",
       "4       http://images.amazon.com/images/P/0393045218.01.THUMBZZZ.jpg   \n",
       "...                                                              ...   \n",
       "271355  http://images.amazon.com/images/P/0440400988.01.THUMBZZZ.jpg   \n",
       "271356  http://images.amazon.com/images/P/0525447644.01.THUMBZZZ.jpg   \n",
       "271357  http://images.amazon.com/images/P/006008667X.01.THUMBZZZ.jpg   \n",
       "271358  http://images.amazon.com/images/P/0192126040.01.THUMBZZZ.jpg   \n",
       "271359  http://images.amazon.com/images/P/0767409752.01.THUMBZZZ.jpg   \n",
       "\n",
       "                                                         Image-URL-M   \n",
       "0       http://images.amazon.com/images/P/0195153448.01.MZZZZZZZ.jpg  \\\n",
       "1       http://images.amazon.com/images/P/0002005018.01.MZZZZZZZ.jpg   \n",
       "2       http://images.amazon.com/images/P/0060973129.01.MZZZZZZZ.jpg   \n",
       "3       http://images.amazon.com/images/P/0374157065.01.MZZZZZZZ.jpg   \n",
       "4       http://images.amazon.com/images/P/0393045218.01.MZZZZZZZ.jpg   \n",
       "...                                                              ...   \n",
       "271355  http://images.amazon.com/images/P/0440400988.01.MZZZZZZZ.jpg   \n",
       "271356  http://images.amazon.com/images/P/0525447644.01.MZZZZZZZ.jpg   \n",
       "271357  http://images.amazon.com/images/P/006008667X.01.MZZZZZZZ.jpg   \n",
       "271358  http://images.amazon.com/images/P/0192126040.01.MZZZZZZZ.jpg   \n",
       "271359  http://images.amazon.com/images/P/0767409752.01.MZZZZZZZ.jpg   \n",
       "\n",
       "                                                         Image-URL-L  \n",
       "0       http://images.amazon.com/images/P/0195153448.01.LZZZZZZZ.jpg  \n",
       "1       http://images.amazon.com/images/P/0002005018.01.LZZZZZZZ.jpg  \n",
       "2       http://images.amazon.com/images/P/0060973129.01.LZZZZZZZ.jpg  \n",
       "3       http://images.amazon.com/images/P/0374157065.01.LZZZZZZZ.jpg  \n",
       "4       http://images.amazon.com/images/P/0393045218.01.LZZZZZZZ.jpg  \n",
       "...                                                              ...  \n",
       "271355  http://images.amazon.com/images/P/0440400988.01.LZZZZZZZ.jpg  \n",
       "271356  http://images.amazon.com/images/P/0525447644.01.LZZZZZZZ.jpg  \n",
       "271357  http://images.amazon.com/images/P/006008667X.01.LZZZZZZZ.jpg  \n",
       "271358  http://images.amazon.com/images/P/0192126040.01.LZZZZZZZ.jpg  \n",
       "271359  http://images.amazon.com/images/P/0767409752.01.LZZZZZZZ.jpg  \n",
       "\n",
       "[271360 rows x 8 columns]"
      ]
     },
     "execution_count": 15,
     "metadata": {},
     "output_type": "execute_result"
    }
   ],
   "source": [
    "buku"
   ]
  },
  {
   "cell_type": "markdown",
   "id": "6fa0f522",
   "metadata": {},
   "source": [
    "# Mengevaluasi Dataset Rating"
   ]
  },
  {
   "cell_type": "code",
   "execution_count": 16,
   "id": "cf6cc00a",
   "metadata": {},
   "outputs": [
    {
     "name": "stdout",
     "output_type": "stream",
     "text": [
      "<class 'pandas.core.frame.DataFrame'>\n",
      "RangeIndex: 1149780 entries, 0 to 1149779\n",
      "Data columns (total 3 columns):\n",
      " #   Column       Non-Null Count    Dtype \n",
      "---  ------       --------------    ----- \n",
      " 0   User-ID      1149780 non-null  int64 \n",
      " 1   ISBN         1149780 non-null  object\n",
      " 2   Book-Rating  1149780 non-null  int64 \n",
      "dtypes: int64(2), object(1)\n",
      "memory usage: 26.3+ MB\n"
     ]
    }
   ],
   "source": [
    "rating.info()"
   ]
  },
  {
   "cell_type": "code",
   "execution_count": 17,
   "id": "5d044959",
   "metadata": {},
   "outputs": [
    {
     "data": {
      "text/plain": [
       "(1149780, 3)"
      ]
     },
     "execution_count": 17,
     "metadata": {},
     "output_type": "execute_result"
    }
   ],
   "source": [
    "rating.shape"
   ]
  },
  {
   "cell_type": "markdown",
   "id": "e9d2cc2f",
   "metadata": {},
   "source": [
    "# Mengevaluasi Dataset User"
   ]
  },
  {
   "cell_type": "code",
   "execution_count": 18,
   "id": "139c4f2f",
   "metadata": {},
   "outputs": [],
   "source": [
    "user=user[(user['Age']>=4)&(user['Age']<=79)] #Penghapusan data pengguna yang tidak sesuai dengan ketentuan\n",
    "user['Age']=pd.to_numeric(user['Age']) #Konversi kolom usia menjadi numerik\n",
    "user['Age']=user['Age'].astype(int)"
   ]
  },
  {
   "cell_type": "markdown",
   "id": "ebf06871",
   "metadata": {},
   "source": [
    "# Membuat Program Sistem Rekomendasi"
   ]
  },
  {
   "cell_type": "code",
   "execution_count": 19,
   "id": "f39bec12",
   "metadata": {},
   "outputs": [],
   "source": [
    "import surprise"
   ]
  },
  {
   "cell_type": "code",
   "execution_count": 20,
   "id": "6618ffa7",
   "metadata": {},
   "outputs": [],
   "source": [
    "reader = surprise.Reader(rating_scale=(0, 10))\n",
    "data = surprise.Dataset.load_from_df(rating[['User-ID', 'ISBN', 'Book-Rating']], reader)"
   ]
  },
  {
   "cell_type": "code",
   "execution_count": 21,
   "id": "06f3c3bd",
   "metadata": {},
   "outputs": [],
   "source": [
    "trainset, testset = surprise.model_selection.train_test_split(data, test_size=0.2)"
   ]
  },
  {
   "cell_type": "code",
   "execution_count": 22,
   "id": "a4d5472d",
   "metadata": {},
   "outputs": [],
   "source": [
    "model = surprise.SVD()"
   ]
  },
  {
   "cell_type": "code",
   "execution_count": 23,
   "id": "da956788",
   "metadata": {},
   "outputs": [
    {
     "data": {
      "text/plain": [
       "<surprise.prediction_algorithms.matrix_factorization.SVD at 0x137eaf8b0>"
      ]
     },
     "execution_count": 23,
     "metadata": {},
     "output_type": "execute_result"
    }
   ],
   "source": [
    "model.fit(trainset)"
   ]
  },
  {
   "cell_type": "code",
   "execution_count": 24,
   "id": "9c46c2b4",
   "metadata": {},
   "outputs": [],
   "source": [
    "user_id = 276725 # contoh User-ID yang ingin direkomendasikan bukunya\n",
    "user_books = rating[rating['User-ID'] == user_id]['ISBN']\n",
    "books_to_recommend = buku[~buku['ISBN'].isin(user_books)]['ISBN']\n",
    "predictions = [model.predict(user_id, book_id) for book_id in books_to_recommend]\n"
   ]
  },
  {
   "cell_type": "code",
   "execution_count": 25,
   "id": "c7aef0f5",
   "metadata": {},
   "outputs": [],
   "source": [
    "recommendations = pd.DataFrame(predictions, columns=['uid', 'iid', 'r_ui', 'est', 'details'])\n",
    "recommendations.sort_values(by='est', ascending=False, inplace=True)\n",
    "top_5_books = recommendations.head(5)['iid'].values\n"
   ]
  },
  {
   "cell_type": "code",
   "execution_count": 27,
   "id": "e7f4f240",
   "metadata": {},
   "outputs": [
    {
     "name": "stdout",
     "output_type": "stream",
     "text": [
      "Buku yang direkomendasikan:\n",
      "1. Free\n",
      "2. The Fellowship of the Ring (The Lord of the Rings, Part 1)\n",
      "3. All I Need to Know I Learned from My Cat\n",
      "4. Fox in Socks (I Can Read It All by Myself Beginner Books)\n",
      "5. Frindle\n"
     ]
    }
   ],
   "source": [
    "print('Buku yang direkomendasikan:')\n",
    "for i, book in enumerate(top_5_books):\n",
    "    print(f'{i+1}. {buku[buku[\"ISBN\"] == book][\"Book-Title\"].values[0]}')\n"
   ]
  },
  {
   "cell_type": "markdown",
   "id": "e4641c4d",
   "metadata": {},
   "source": [
    "# Program Memberikan Rekomendasi Buku -> User"
   ]
  },
  {
   "cell_type": "code",
   "execution_count": 28,
   "id": "713e6aa9",
   "metadata": {},
   "outputs": [
    {
     "name": "stdout",
     "output_type": "stream",
     "text": [
      "1. 276725\n",
      "2. 185233\n",
      "3. 185233\n",
      "4. 185233\n",
      "5. 185233\n"
     ]
    }
   ],
   "source": [
    "isbn_try = 1568303823\n",
    "isbn_books = rating[rating['ISBN']==isbn_try]['User-ID']\n",
    "isbn_to_recommend = rating[~rating['User-ID'].isin(isbn_books)]['User-ID']\n",
    "prediction1=[model.predict(isbn_try,user_ii) for user_ii in isbn_to_recommend]\n",
    "\n",
    "recommendations1 = pd.DataFrame(prediction1,columns=['uid','iid','r_ui','est','details'])\n",
    "recommendations1.sort_values(by='est',ascending=False,inplace=True)\n",
    "top_5_user = recommendations1.head(5)['iid'].values\n",
    "\n",
    "for i,user11 in enumerate(top_5_user):\n",
    "    print(str(i+1)+str('.')+\" \"+str(user11))"
   ]
  },
  {
   "cell_type": "code",
   "execution_count": null,
   "id": "e9c64f4e",
   "metadata": {},
   "outputs": [],
   "source": [
    "\"\"\"\n",
    "import pandas as pd\n",
    "import numpy as np\n",
    "import surprise\n",
    "import tensorflow as tf\n",
    "from tensorflow import keras\n",
    "from sklearn.preprocessing import MinMaxScaler\n",
    "\n",
    "# Membaca data rating dari file CSV\n",
    "rating = pd.read_csv('book_ratings.csv')\n",
    "\n",
    "# Menentukan skala rating\n",
    "reader = surprise.Reader(rating_scale=(0, 10))\n",
    "\n",
    "# Memuat data rating ke dalam objek Dataset\n",
    "data = surprise.Dataset.load_from_df(rating[['User-ID', 'ISBN', 'Book-Rating']], reader)\n",
    "\n",
    "# Membagi data menjadi data latih dan data uji\n",
    "trainset, testset = surprise.model_selection.train_test_split(data, test_size=0.2)\n",
    "\n",
    "# Menggunakan model SVD untuk merekomendasikan buku\n",
    "model = surprise.SVD()\n",
    "model.fit(trainset)\n",
    "\n",
    "# Menentukan buku yang akan direkomendasikan\n",
    "isbn_try = 1568303823\n",
    "isbn_books = rating[rating['ISBN']==isbn_try]['User-ID']\n",
    "isbn_to_recommend = rating[~rating['User-ID'].isin(isbn_books)]['User-ID']\n",
    "\n",
    "# Menghitung estimasi rating menggunakan model SVD\n",
    "prediction = [model.predict(isbn_try, user_ii) for user_ii in isbn_to_recommend]\n",
    "\n",
    "# Membuat DataFrame dari hasil prediksi\n",
    "recommendations = pd.DataFrame(prediction, columns=['uid', 'iid', 'r_ui', 'est', 'details'])\n",
    "recommendations.sort_values(by='est', ascending=False, inplace=True)\n",
    "\n",
    "# Menampilkan top 5 buku yang direkomendasikan\n",
    "top_5_user = recommendations.head(5)['iid'].values\n",
    "for i, user11 in enumerate(top_5_user):\n",
    "    print(str(i+1)+str('.')+\" \"+str(user11))\n",
    "\n",
    "# Normalisasi data rating\n",
    "scaler = MinMaxScaler()\n",
    "rating_norm = scaler.fit_transform(rating[['User-ID', 'ISBN', 'Book-Rating']])\n",
    "\n",
    "# Membagi data rating menjadi fitur (X) dan target (y)\n",
    "X = rating_norm[:, :2]\n",
    "y = rating_norm[:, 2]\n",
    "\n",
    "# Membangun model DNN menggunakan TensorFlow-Keras\n",
    "model = keras.Sequential([\n",
    "    keras.layers.Dense(64, activation='relu', input_shape=(2,)),\n",
    "    keras.layers.Dense(32, activation='relu'),\n",
    "    keras.layers.Dense(1, activation='linear')\n",
    "])\n",
    "model.compile(optimizer='adam', loss='mse')\n",
    "\n",
    "# Melatih model DNN dengan data rating yang telah dinormalisasi\n",
    "model.fit(X, y, epochs=10, validation_split=0.2)\n",
    "\n",
    "# Membuat fungsi untuk merekomendasikan buku menggunakan model DNN\n",
    "def recommend_books(model, user_id):\n",
    "    isbn_to_recommend = rating[~rating['User-ID'].isin(isbn_books)]['ISBN'].unique()\n",
    "    user_id_arr = np.array([user_id] * len(isbn_to_recommend))\n",
    "    isbn_arr = np.array(isbn_to_recommend)\n",
    "    X = scaler.transform(np.column_stack((user_id_arr, isbn_arr)))\n",
    "    y_pred = model.predict(X)\n",
    "    recommendations = pd.DataFrame({'ISBN': isbn_to_recommend, 'estimated_rating': y_pred[:, 0]})\n",
    "    recommendations.sort_values(by='estimated_rating', ascending=False, inplace=True)\n",
    "    return recommendations.head(5)['ISBN'].values\n",
    "\n",
    "# Merekomendasikan buku untuk pengguna baru menggunakan model DNN\n",
    "user_id = 100\n",
    "top_5_books = recommend_books(model, user_id)\n",
    "for i, book in enumerate(top_5_books):\n",
    "    print(str(i+1)+str('.')+\" \"+str(book))\n",
    "\n",
    "\"\"\""
   ]
  }
 ],
 "metadata": {
  "kernelspec": {
   "display_name": "Python 3 (ipykernel)",
   "language": "python",
   "name": "python3"
  },
  "language_info": {
   "codemirror_mode": {
    "name": "ipython",
    "version": 3
   },
   "file_extension": ".py",
   "mimetype": "text/x-python",
   "name": "python",
   "nbconvert_exporter": "python",
   "pygments_lexer": "ipython3",
   "version": "3.9.6"
  }
 },
 "nbformat": 4,
 "nbformat_minor": 5
}
